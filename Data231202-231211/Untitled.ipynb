{
 "cells": [
  {
   "cell_type": "code",
   "execution_count": 4,
   "id": "08a6288e-e35a-44ee-8fe4-f0c6fb32e3f1",
   "metadata": {},
   "outputs": [
    {
     "name": "stdout",
     "output_type": "stream",
     "text": [
      "已保存包含 pub_time 为 2023.12.02 的行到 Data231202.csv 文件中。\n"
     ]
    }
   ],
   "source": [
    "import pandas as pd\n",
    "\n",
    "# 读取原始 CSV 文件\n",
    "df = pd.read_csv(\"Data231202-231211.csv\")\n",
    "\n",
    "# 提取 pub_time 为 2023.12.02 的行\n",
    "df['pub_time'] = pd.to_datetime(df['pub_time'])\n",
    "\n",
    "filtered_df = df[(df['pub_time'] >= '2023-12-02') & (df['pub_time'] < '2023-12-03')]\n",
    "\n",
    "# 将提取的行保存到新的 CSV 文件中\n",
    "filtered_df.to_csv(\"Data231202.csv\", index=False)\n",
    "\n",
    "print(\"已保存包含 pub_time 为 2023.12.02 的行到 Data231202.csv 文件中。\")\n"
   ]
  },
  {
   "cell_type": "code",
   "execution_count": null,
   "id": "97916828-a507-426b-a047-512db01543d9",
   "metadata": {},
   "outputs": [],
   "source": []
  }
 ],
 "metadata": {
  "kernelspec": {
   "display_name": "conda-default",
   "language": "python",
   "name": "conda-default"
  },
  "language_info": {
   "codemirror_mode": {
    "name": "ipython",
    "version": 3
   },
   "file_extension": ".py",
   "mimetype": "text/x-python",
   "name": "python",
   "nbconvert_exporter": "python",
   "pygments_lexer": "ipython3",
   "version": "3.8.16"
  }
 },
 "nbformat": 4,
 "nbformat_minor": 5
}
