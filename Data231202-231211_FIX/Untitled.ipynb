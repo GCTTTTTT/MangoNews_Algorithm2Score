{
 "cells": [
  {
   "cell_type": "code",
   "execution_count": 7,
   "id": "fec8a002-846e-432e-91f9-4290cdaf864c",
   "metadata": {},
   "outputs": [
    {
     "name": "stdout",
     "output_type": "stream",
     "text": [
      "已处理并保存到新文件中。\n"
     ]
    }
   ],
   "source": [
    "input_file = 'untitled.txt'  # 替换为你的文本文件路径\n",
    "output_file = 'cleaned_untitled.txt'  # 替换为输出文件路径\n",
    "\n",
    "# 读取原始文本文件内容\n",
    "with open(input_file, 'r', encoding='utf-8') as f:\n",
    "    lines = f.readlines()\n",
    "\n",
    "# 去除多余空行，并确保每行末尾只有一个换行符\n",
    "cleaned_lines = [line.strip() + '\\n' for line in lines if line.strip()]\n",
    "\n",
    "# 将处理后的内容写入到新文件中\n",
    "with open(output_file, 'w', encoding='utf-8') as f:\n",
    "    f.writelines(cleaned_lines)\n",
    "\n",
    "print(\"已处理并保存到新文件中。\")\n"
   ]
  },
  {
   "cell_type": "code",
   "execution_count": 8,
   "id": "3c6a1859-b1c0-4422-93e5-7257acaea1bf",
   "metadata": {},
   "outputs": [
    {
     "name": "stdout",
     "output_type": "stream",
     "text": [
      "已处理并保存到新文件中。\n"
     ]
    }
   ],
   "source": [
    "input_file = 'cleaned_untitled.txt'  # 替换为你的文本文件路径\n",
    "output_file = 'cleaned_untitled_new.txt'  # 替换为输出文件路径\n",
    "\n",
    "# 读取原始文本文件内容\n",
    "with open(input_file, 'r', encoding='utf-8') as f:\n",
    "    lines = f.readlines()\n",
    "\n",
    "# 处理只包含数字和回车的行，将数字后面的回车去除\n",
    "processed_lines = []\n",
    "for line in lines:\n",
    "    # 判断是否只包含数字和回车\n",
    "    if line.strip().isdigit() or all(char.isdigit() or char == '\\n' for char in line.strip()):\n",
    "        # 去除数字后面的回车\n",
    "        cleaned_line = line.rstrip('\\n') +'\\t'\n",
    "        processed_lines.append(cleaned_line)\n",
    "    else:\n",
    "        processed_lines.append(line)\n",
    "\n",
    "# 将处理后的内容写入到新文件中\n",
    "with open(output_file, 'w', encoding='utf-8') as f:\n",
    "    f.writelines(processed_lines)\n",
    "\n",
    "print(\"已处理并保存到新文件中。\")\n"
   ]
  },
  {
   "cell_type": "code",
   "execution_count": 10,
   "id": "6646541e-c750-4a01-9bb0-bd8227f6bab4",
   "metadata": {},
   "outputs": [
    {
     "name": "stdout",
     "output_type": "stream",
     "text": [
      "已处理并保存到新文件中。\n"
     ]
    }
   ],
   "source": [
    "input_file = 'true_clusters.txt'  # 替换为你的文本文件路径\n",
    "output_file = 'cleaned_true_clusters.txt'  # 替换为输出文件路径\n",
    "\n",
    "# 读取原始文本文件内容\n",
    "with open(input_file, 'r', encoding='utf-8') as f:\n",
    "    lines = f.readlines()\n",
    "\n",
    "# 去除多余空行，并确保每行末尾只有一个换行符\n",
    "cleaned_lines = [line.strip() for line in lines if line.strip()]\n",
    "\n",
    "# 将处理后的内容写入到新文件中\n",
    "with open(output_file, 'w', encoding='utf-8') as f:\n",
    "    f.writelines(cleaned_lines)\n",
    "\n",
    "print(\"已处理并保存到新文件中。\")\n"
   ]
  },
  {
   "cell_type": "code",
   "execution_count": null,
   "id": "dfd813e2-6e36-43bb-82ee-19a46dc032e3",
   "metadata": {},
   "outputs": [],
   "source": []
  }
 ],
 "metadata": {
  "kernelspec": {
   "display_name": "conda-default",
   "language": "python",
   "name": "conda-default"
  },
  "language_info": {
   "codemirror_mode": {
    "name": "ipython",
    "version": 3
   },
   "file_extension": ".py",
   "mimetype": "text/x-python",
   "name": "python",
   "nbconvert_exporter": "python",
   "pygments_lexer": "ipython3",
   "version": "3.8.16"
  }
 },
 "nbformat": 4,
 "nbformat_minor": 5
}
