{
 "cells": [
  {
   "cell_type": "code",
   "execution_count": 2,
   "id": "487e3372-94ad-427c-98d8-1130f68969eb",
   "metadata": {},
   "outputs": [
    {
     "name": "stdout",
     "output_type": "stream",
     "text": [
      "处理完成，并将结果保存到新的CSV文件中。\n"
     ]
    }
   ],
   "source": [
    "# 读取./Data231202-231211_FIX/Data231202_newDATA.csv并根据body列正文长度进行排序\n",
    "import pandas as pd\n",
    "\n",
    "# 读取CSV文件\n",
    "input_file = './Data231202-231211_FIX/Data231202_newDATA.csv'  # 替换为你的输入文件路径\n",
    "output_file = './T3BodyLenRank/Data231202_newDATA_rank.csv'  # 替换为你的输出文件路径\n",
    "\n",
    "# 读取CSV文件并计算正文长度\n",
    "df = pd.read_csv(input_file)\n",
    "df['body_len'] = df['body'].apply(lambda x: len(str(x).split()))  # 假设每个单词之间用空格分隔\n",
    "\n",
    "# 按正文长度进行排序\n",
    "df = df.sort_values(by='body_len', ascending=False)\n",
    "\n",
    "# 添加排名列\n",
    "df['rank_len'] = df['body_len'].rank(method='min', ascending=False)\n",
    "\n",
    "# 保存结果到新的CSV文件\n",
    "df.to_csv(output_file, index=False)\n",
    "\n",
    "print(\"处理完成，并将结果保存到新的CSV文件中。\")\n"
   ]
  },
  {
   "cell_type": "code",
   "execution_count": 3,
   "id": "7481d184-a9c9-4376-840b-597f53295492",
   "metadata": {},
   "outputs": [
    {
     "name": "stdout",
     "output_type": "stream",
     "text": [
      "处理完成，并将结果保存到新的CSV文件中。\n"
     ]
    }
   ],
   "source": [
    "import pandas as pd\n",
    "\n",
    "# 读取CSV文件\n",
    "input_file = './Data231202-231211_FIX/Data231202_newDATA.csv'  # 替换为你的输入文件路径\n",
    "output_file = './T3BodyLenRank/Data231202_newDATA_rank_Score.csv'  # 替换为你的输出文件路径\n",
    "\n",
    "# 读取CSV文件并计算正文长度\n",
    "df = pd.read_csv(input_file)\n",
    "df['body_len'] = df['body'].apply(lambda x: len(str(x).split()))  # 假设每个单词之间用空格分隔\n",
    "\n",
    "# 按正文长度进行排序\n",
    "df = df.sort_values(by='body_len', ascending=False)\n",
    "\n",
    "# 添加排名列\n",
    "df['rank_len'] = df['body_len'].rank(method='min', ascending=False)\n",
    "\n",
    "# 计算S_scale并添加列\n",
    "max_len = df['body_len'].max()\n",
    "min_len = df['body_len'].min()\n",
    "df['S_scale'] = (df['body_len'] - min_len) / (max_len - min_len)\n",
    "\n",
    "# 计算body_len_score并添加列\n",
    "df['body_len_score'] = 20 * df['S_scale']\n",
    "\n",
    "# 保存结果到新的CSV文件\n",
    "df.to_csv(output_file, index=False)\n",
    "\n",
    "print(\"处理完成，并将结果保存到新的CSV文件中。\")\n"
   ]
  },
  {
   "cell_type": "code",
   "execution_count": null,
   "id": "4e307f00-6413-4da0-81c4-c495715cfc83",
   "metadata": {},
   "outputs": [],
   "source": []
  }
 ],
 "metadata": {
  "kernelspec": {
   "display_name": "conda-default",
   "language": "python",
   "name": "conda-default"
  },
  "language_info": {
   "codemirror_mode": {
    "name": "ipython",
    "version": 3
   },
   "file_extension": ".py",
   "mimetype": "text/x-python",
   "name": "python",
   "nbconvert_exporter": "python",
   "pygments_lexer": "ipython3",
   "version": "3.8.16"
  }
 },
 "nbformat": 4,
 "nbformat_minor": 5
}
